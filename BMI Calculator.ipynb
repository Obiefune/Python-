{
 "cells": [
  {
   "cell_type": "code",
   "execution_count": 1,
   "id": "01be9cd0-534c-4662-b1f5-2fae9c067197",
   "metadata": {},
   "outputs": [],
   "source": [
    "# BMI = (weight in pound x 703) / (height in inches x hight in inches)\n",
    "# BMI Ranges\n",
    "# Less than 18.5: Underweight | 18.5 to <25: Healthy Weight | 25 to <30: Overweight\n",
    "# 30 or greater: Obesity | 30 to <35: Class 1 Obesity | 35 to <40: Class 2 Obesity | 40 or greater: Class 3 Obesity(Severe Obesity)"
   ]
  },
  {
   "cell_type": "code",
   "execution_count": 25,
   "id": "ae94c4bb-fa07-4cfe-85fe-7a1338250d88",
   "metadata": {},
   "outputs": [
    {
     "name": "stdin",
     "output_type": "stream",
     "text": [
      "Enter your name:  Obiefune\n",
      "Enter your weight in pound:  178\n",
      "Enter your height in inches:  60\n"
     ]
    },
    {
     "name": "stdout",
     "output_type": "stream",
     "text": [
      "34.75944444444445\n",
      "Obiefune, You have class 1 obesity\n"
     ]
    }
   ],
   "source": [
    "name = input('Enter your name: ')\n",
    "weight = int(input('Enter your weight in pound: '))\n",
    "height = int(input('Enter your height in inches: '))\n",
    "BMI = (weight * 703) / (height * height)\n",
    "\n",
    "print(BMI)\n",
    "\n",
    "if BMI > 0:\n",
    "    if BMI < 18.5:\n",
    "        print(name + ', You are Underweight')\n",
    "    elif BMI <= 24.9:\n",
    "        print(name + ', You have Healthy Weight')\n",
    "    elif BMI <= 29.9:\n",
    "        print(name + ', You are over weight')\n",
    "    elif BMI <= 34.9:\n",
    "        print(name + ', You have class 1 obesity')\n",
    "    elif BMI <= 39.9:\n",
    "        print(name + ', You have class 2 obesity')\n",
    "    elif BMI >= 40:\n",
    "        print(name + ', You have class 3 obesity, severe obesity')\n",
    "else:\n",
    "    print('Enter the right values')"
   ]
  },
  {
   "cell_type": "code",
   "execution_count": null,
   "id": "fad69815-dbe8-4afa-98a6-b6c9f893d3b1",
   "metadata": {},
   "outputs": [],
   "source": []
  },
  {
   "cell_type": "code",
   "execution_count": null,
   "id": "3b784404-9109-4acc-86c3-6d6008feed81",
   "metadata": {},
   "outputs": [],
   "source": [
    "\n",
    "\n",
    "    "
   ]
  },
  {
   "cell_type": "code",
   "execution_count": null,
   "id": "eeb13125-8523-47f6-a07c-4569ccee3db4",
   "metadata": {},
   "outputs": [],
   "source": []
  },
  {
   "cell_type": "code",
   "execution_count": null,
   "id": "3b0ddd18-c13d-4a82-aa20-a35f13463f2d",
   "metadata": {},
   "outputs": [],
   "source": []
  },
  {
   "cell_type": "code",
   "execution_count": null,
   "id": "1acb2456-2f30-451a-bce4-b156c7579d9d",
   "metadata": {},
   "outputs": [],
   "source": [
    "x"
   ]
  }
 ],
 "metadata": {
  "kernelspec": {
   "display_name": "Python [conda env:base] *",
   "language": "python",
   "name": "conda-base-py"
  },
  "language_info": {
   "codemirror_mode": {
    "name": "ipython",
    "version": 3
   },
   "file_extension": ".py",
   "mimetype": "text/x-python",
   "name": "python",
   "nbconvert_exporter": "python",
   "pygments_lexer": "ipython3",
   "version": "3.12.7"
  }
 },
 "nbformat": 4,
 "nbformat_minor": 5
}
