{
 "cells": [
  {
   "cell_type": "code",
   "execution_count": 73,
   "id": "0ea998aa-713b-4d35-ba80-ba2f16a09e8a",
   "metadata": {},
   "outputs": [],
   "source": [
    "import os, shutil"
   ]
  },
  {
   "cell_type": "code",
   "execution_count": 75,
   "id": "564a0a55-bce1-4b3c-9d3c-12313888749b",
   "metadata": {},
   "outputs": [],
   "source": [
    "path = r\"C:/Users/Owner/OneDrive/Desktop/\""
   ]
  },
  {
   "cell_type": "code",
   "execution_count": 77,
   "id": "f5e2aa4b-bec1-4648-a781-7fb6a1f16f33",
   "metadata": {},
   "outputs": [],
   "source": [
    "file_name = os.listdir(path)"
   ]
  },
  {
   "cell_type": "code",
   "execution_count": 79,
   "id": "357ee287-450b-43dc-96dc-98f5bf495f6c",
   "metadata": {},
   "outputs": [],
   "source": [
    "folder_names = ['excel files', 'pdf files', 'image files', 'others']\n",
    "\n",
    "for afs_MSExplorer in range (0, 4):\n",
    "    if not os.path.exists(path + folder_names[afs_MSExplorer]):\n",
    "        print(path + folder_names[afs_MSExplorer])\n",
    "        os.makedirs(path + folder_names[afs_MSExplorer])\n",
    "for file in file_name:\n",
    "    if \".csv\" in file and not os.path.exists(path + \"excel files/\" + file):\n",
    "        shutil.move (path + file, path + \"excel files/\" + file)\n",
    "    elif \".xlsx\" in file and not os.path.exists(path + \"excel files/\" + file):\n",
    "        shutil.move (path + file, path + \"excel files/\" + file)\n",
    "    elif \".pdf\" in file and not os.path.exists(path + \"pdf files/\" + file):\n",
    "        shutil.move (path + file, path + \"pdf files/\" + file)\n",
    "    elif \".jpg\" in file and not os.path.exists(path + \"image files/\" + file):\n",
    "        shutil.move (path + file, path + \"image files/\" + file)\n",
    "    elif \".docx\" in file and not os.path.exists(path + \"others/\" + file):\n",
    "        shutil.move (path + file, path + \"Others/\" + file)"
   ]
  },
  {
   "cell_type": "raw",
   "id": "fa205889-5368-4dd8-a969-0cd9242da220",
   "metadata": {},
   "source": [
    "import os, shutil"
   ]
  },
  {
   "cell_type": "code",
   "execution_count": 89,
   "id": "71999b2e-b93d-4fea-89cd-dda465c80886",
   "metadata": {},
   "outputs": [],
   "source": [
    "path = r\"C:/Users/Owner/Downloads/\""
   ]
  },
  {
   "cell_type": "code",
   "execution_count": 91,
   "id": "37ac50b6-12cb-4745-a6fb-8bb5c0b4885c",
   "metadata": {},
   "outputs": [],
   "source": [
    "file_name = os.listdir(path)"
   ]
  },
  {
   "cell_type": "code",
   "execution_count": 98,
   "id": "2bb45c27-a664-42ad-9481-9a26b6c0f8af",
   "metadata": {},
   "outputs": [
    {
     "name": "stdout",
     "output_type": "stream",
     "text": [
      "C:/Users/Owner/Downloads/video files\n"
     ]
    }
   ],
   "source": [
    "folder_names = ['excel files', 'pdf files', 'image files', 'video files', 'others']\n",
    "\n",
    "for afs_MSExplorer in range (0, 4):\n",
    "    if not os.path.exists(path + folder_names[afs_MSExplorer]):\n",
    "        print(path + folder_names[afs_MSExplorer])\n",
    "        os.makedirs(path + folder_names[afs_MSExplorer])\n",
    "for file in file_name:\n",
    "    if \".csv\" in file and not os.path.exists(path + \"excel files/\" + file):\n",
    "        shutil.move (path + file, path + \"excel files/\" + file)\n",
    "    elif \".xlsx\" in file and not os.path.exists(path + \"excel files/\" + file):\n",
    "        shutil.move (path + file, path + \"excel files/\" + file)\n",
    "    elif \".pdf\" in file and not os.path.exists(path + \"pdf files/\" + file):\n",
    "        shutil.move (path + file, path + \"pdf files/\" + file)\n",
    "    elif \".jpg\" in file and not os.path.exists(path + \"image files/\" + file):\n",
    "        shutil.move (path + file, path + \"image files/\" + file)\n",
    "    elif \".png\" in file and not os.path.exists(path + \"image files/\" + file):\n",
    "        shutil.move (path + file, path + \"image files/\" + file)\n",
    "    elif \".docx\" in file and not os.path.exists(path + \"others/\" + file):\n",
    "        shutil.move (path + file, path + \"Others/\" + file)\n",
    "    elif \".mp4\" in file and not os.path.exists(path + \"video files/\" + file):\n",
    "        shutil.move (path + file, path + \"video files/\" + file)"
   ]
  },
  {
   "cell_type": "code",
   "execution_count": null,
   "id": "91720a25-8789-4830-ae5d-5ebde5bff526",
   "metadata": {},
   "outputs": [],
   "source": []
  }
 ],
 "metadata": {
  "kernelspec": {
   "display_name": "Python [conda env:base] *",
   "language": "python",
   "name": "conda-base-py"
  },
  "language_info": {
   "codemirror_mode": {
    "name": "ipython",
    "version": 3
   },
   "file_extension": ".py",
   "mimetype": "text/x-python",
   "name": "python",
   "nbconvert_exporter": "python",
   "pygments_lexer": "ipython3",
   "version": "3.12.7"
  }
 },
 "nbformat": 4,
 "nbformat_minor": 5
}
