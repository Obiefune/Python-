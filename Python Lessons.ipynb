{
 "cells": [
  {
   "cell_type": "code",
   "execution_count": 4,
   "id": "763ed2d3-6520-4437-b888-16d0c6254ae7",
   "metadata": {},
   "outputs": [],
   "source": [
    "x = 10"
   ]
  },
  {
   "cell_type": "code",
   "execution_count": 6,
   "id": "7553ebe3-c722-48bb-8800-11be99019cf4",
   "metadata": {},
   "outputs": [
    {
     "name": "stdout",
     "output_type": "stream",
     "text": [
      "it wokred\n"
     ]
    }
   ],
   "source": [
    "if 50 > 30: \n",
    "    print('it wokred')"
   ]
  },
  {
   "cell_type": "code",
   "execution_count": 14,
   "id": "3ceb3cd9-d04b-402b-9de9-1622d8ae84b7",
   "metadata": {},
   "outputs": [
    {
     "name": "stdout",
     "output_type": "stream",
     "text": [
      "elif wokred\n"
     ]
    }
   ],
   "source": [
    "if 50 < 30: \n",
    "    print('it wokred')\n",
    "elif 40 >30:\n",
    "    print('elif wokred')\n",
    "else:\n",
    "    print('it did not work')\n",
    "    "
   ]
  },
  {
   "cell_type": "code",
   "execution_count": 16,
   "id": "58900d05-2a47-4e60-9c3b-3d51563764df",
   "metadata": {},
   "outputs": [],
   "source": [
    "integers = [1, 2, 3, 4, 5]"
   ]
  },
  {
   "cell_type": "code",
   "execution_count": 18,
   "id": "9435bc43-dcee-43ba-a397-ff30b23d80b8",
   "metadata": {},
   "outputs": [
    {
     "name": "stdout",
     "output_type": "stream",
     "text": [
      "2\n",
      "4\n",
      "6\n",
      "8\n",
      "10\n"
     ]
    }
   ],
   "source": [
    "for number in integers: \n",
    "    print(number + number)"
   ]
  },
  {
   "cell_type": "code",
   "execution_count": 20,
   "id": "63fc1dfd-f4fe-4106-8cf6-e4cbb7ccdb5d",
   "metadata": {},
   "outputs": [],
   "source": [
    "ice_cream_dict = {'name': 'Obiefune', 'weekly intake': 5, 'favorite ice_cream': ['Vanilla Satrwberry', 'Chocolate Vanilla'] }"
   ]
  },
  {
   "cell_type": "code",
   "execution_count": 26,
   "id": "08344f3f-b787-4632-89ab-084a574c111b",
   "metadata": {},
   "outputs": [
    {
     "name": "stdout",
     "output_type": "stream",
     "text": [
      "('name', 'Obiefune')\n",
      "('weekly intake', 5)\n",
      "('favorite ice_cream', ['Vanilla Satrwberry', 'Chocolate Vanilla'])\n"
     ]
    }
   ],
   "source": [
    "for dict_details in ice_cream_dict.items():\n",
    "    print(dict_details)"
   ]
  },
  {
   "cell_type": "code",
   "execution_count": 28,
   "id": "4e9d82e7-0e67-4b57-927f-ce4c0141daaf",
   "metadata": {},
   "outputs": [],
   "source": [
    "ice_cream_dict = {'name': 'Obiefune', 'weekly intake': 5, 'favorite ice_cream': ['Vanilla Satrwberry', 'Chocolate Vanilla'] }"
   ]
  },
  {
   "cell_type": "code",
   "execution_count": 32,
   "id": "d0b1a3ed-cb7c-4cbd-88bc-cfad5a94cb96",
   "metadata": {},
   "outputs": [
    {
     "name": "stdout",
     "output_type": "stream",
     "text": [
      "name --> Obiefune\n",
      "weekly intake --> 5\n",
      "favorite ice_cream --> ['Vanilla Satrwberry', 'Chocolate Vanilla']\n"
     ]
    }
   ],
   "source": [
    "for keys, values in ice_cream_dict.items():\n",
    "    print(keys, '-->', values)"
   ]
  },
  {
   "cell_type": "code",
   "execution_count": 34,
   "id": "d6e622e0-5fa3-49c3-a989-12802604fb26",
   "metadata": {},
   "outputs": [],
   "source": [
    "ice_cream = ['Vanilla', 'Strawberry', 'Chocolate']\n",
    "Toppings = ['Oreos', 'Waffels', 'Chips']"
   ]
  },
  {
   "cell_type": "code",
   "execution_count": 36,
   "id": "e8090fcd-0582-4ac9-bc8e-f9a80bb06d26",
   "metadata": {},
   "outputs": [
    {
     "name": "stdout",
     "output_type": "stream",
     "text": [
      "Vanilla topped with Oreos\n",
      "Vanilla topped with Waffels\n",
      "Vanilla topped with Chips\n",
      "Strawberry topped with Oreos\n",
      "Strawberry topped with Waffels\n",
      "Strawberry topped with Chips\n",
      "Chocolate topped with Oreos\n",
      "Chocolate topped with Waffels\n",
      "Chocolate topped with Chips\n"
     ]
    }
   ],
   "source": [
    "for creavings in ice_cream:\n",
    "    for sweetner in Toppings:\n",
    "        print(creavings, 'topped with', sweetner )"
   ]
  },
  {
   "cell_type": "code",
   "execution_count": 42,
   "id": "891403f8-2430-4fbb-be22-f79fae8336c9",
   "metadata": {},
   "outputs": [],
   "source": [
    "f_name = ['Patrick', 'Chisom', 'Uche']\n",
    "l_name = ['Anichebe', 'Anichebe','Anichebe']"
   ]
  },
  {
   "cell_type": "code",
   "execution_count": 44,
   "id": "d80188a7-788f-406a-ad33-cec6cb93e211",
   "metadata": {},
   "outputs": [
    {
     "name": "stdout",
     "output_type": "stream",
     "text": [
      "Patrick   Anichebe\n",
      "Patrick   Anichebe\n",
      "Patrick   Anichebe\n",
      "Chisom   Anichebe\n",
      "Chisom   Anichebe\n",
      "Chisom   Anichebe\n",
      "Uche   Anichebe\n",
      "Uche   Anichebe\n",
      "Uche   Anichebe\n"
     ]
    }
   ],
   "source": [
    "for f_name1 in f_name:\n",
    "    for f_name2 in l_name:\n",
    "        print(f_name1, ' ', f_name2)"
   ]
  },
  {
   "cell_type": "markdown",
   "id": "69cdc3f8-b9bb-4a73-9582-7b15b2fcc9dd",
   "metadata": {},
   "source": []
  },
  {
   "cell_type": "code",
   "execution_count": 52,
   "id": "74302cbf-091d-4651-bdb5-824aed86a2e7",
   "metadata": {},
   "outputs": [
    {
     "name": "stdout",
     "output_type": "stream",
     "text": [
      "0\n",
      "1\n",
      "2\n",
      "3\n",
      "4\n"
     ]
    }
   ],
   "source": [
    "number = 0 \n",
    "\n",
    "while number < 5:\n",
    "    print (number)\n",
    "    number = number + 1"
   ]
  },
  {
   "cell_type": "code",
   "execution_count": 56,
   "id": "9c6edf31-4e06-4248-8e00-072e4e97ea2f",
   "metadata": {},
   "outputs": [
    {
     "name": "stdout",
     "output_type": "stream",
     "text": [
      "0\n",
      "1\n",
      "2\n"
     ]
    }
   ],
   "source": [
    "number = 0 \n",
    "\n",
    "while number < 5:\n",
    "    if number == 3:\n",
    "        break \n",
    "    print (number)\n",
    "    number = number + 1"
   ]
  },
  {
   "cell_type": "code",
   "execution_count": null,
   "id": "4a43f0f2-0782-48bb-92b8-41e304e4312d",
   "metadata": {},
   "outputs": [],
   "source": []
  },
  {
   "cell_type": "code",
   "execution_count": null,
   "id": "3650d70d-391a-4b56-ab8d-b0b96a49d6f7",
   "metadata": {},
   "outputs": [],
   "source": []
  },
  {
   "cell_type": "code",
   "execution_count": null,
   "id": "17a218b0-9855-4032-94a2-64af54ec2e34",
   "metadata": {},
   "outputs": [],
   "source": []
  },
  {
   "cell_type": "code",
   "execution_count": null,
   "id": "c35f10c3-1a0d-4f13-922c-19954c27de18",
   "metadata": {},
   "outputs": [],
   "source": []
  },
  {
   "cell_type": "code",
   "execution_count": 62,
   "id": "40277fc6-8da0-4e98-aebf-3869f0115331",
   "metadata": {},
   "outputs": [],
   "source": [
    "def first_function(number, power):\n",
    "    print(number**power)"
   ]
  },
  {
   "cell_type": "code",
   "execution_count": 64,
   "id": "b3a5f9a1-e8dd-4c45-9a66-ff95e9e1fc68",
   "metadata": {},
   "outputs": [
    {
     "name": "stdout",
     "output_type": "stream",
     "text": [
      "3125\n"
     ]
    }
   ],
   "source": [
    "first_function(5, 5)"
   ]
  },
  {
   "cell_type": "code",
   "execution_count": 70,
   "id": "b5e04016-d50d-4399-87be-4ca87d97a3cb",
   "metadata": {},
   "outputs": [],
   "source": [
    "def list_name (first_name, last_name):\n",
    "    print(first_name, '', last_name)"
   ]
  },
  {
   "cell_type": "code",
   "execution_count": 72,
   "id": "8daf9239-02d0-43a4-a7ec-8c5ced4a3a51",
   "metadata": {},
   "outputs": [
    {
     "name": "stdout",
     "output_type": "stream",
     "text": [
      "Obiefune  Onwudnjo\n"
     ]
    }
   ],
   "source": [
    "list_name ('Obiefune', 'Onwudnjo')"
   ]
  },
  {
   "cell_type": "code",
   "execution_count": null,
   "id": "560655be-9642-492e-96e7-9f8e98583b74",
   "metadata": {},
   "outputs": [],
   "source": []
  },
  {
   "cell_type": "code",
   "execution_count": null,
   "id": "f95e6745-c261-4ffa-84b6-75762c164420",
   "metadata": {},
   "outputs": [],
   "source": []
  },
  {
   "cell_type": "code",
   "execution_count": null,
   "id": "6f97edf2-ddc0-4e69-9c2f-b41b306dc72a",
   "metadata": {},
   "outputs": [],
   "source": []
  },
  {
   "cell_type": "code",
   "execution_count": 77,
   "id": "8cfb074f-e422-415d-802c-92873c5d4c47",
   "metadata": {},
   "outputs": [],
   "source": [
    "args_tuple = (5, 6, 7, 8, 9,)\n",
    "\n",
    "def mult_number (*args):\n",
    "    print(args[0] * args[1])"
   ]
  },
  {
   "cell_type": "code",
   "execution_count": 79,
   "id": "0392ad9e-6f3a-44d6-985f-1cfbd2214104",
   "metadata": {},
   "outputs": [
    {
     "name": "stdout",
     "output_type": "stream",
     "text": [
      "30\n"
     ]
    }
   ],
   "source": [
    "mult_number (*args_tuple)"
   ]
  },
  {
   "cell_type": "code",
   "execution_count": null,
   "id": "490bc1d1-2dc8-436b-9548-4069892c996c",
   "metadata": {},
   "outputs": [],
   "source": []
  }
 ],
 "metadata": {
  "kernelspec": {
   "display_name": "Python [conda env:base] *",
   "language": "python",
   "name": "conda-base-py"
  },
  "language_info": {
   "codemirror_mode": {
    "name": "ipython",
    "version": 3
   },
   "file_extension": ".py",
   "mimetype": "text/x-python",
   "name": "python",
   "nbconvert_exporter": "python",
   "pygments_lexer": "ipython3",
   "version": "3.12.7"
  }
 },
 "nbformat": 4,
 "nbformat_minor": 5
}
